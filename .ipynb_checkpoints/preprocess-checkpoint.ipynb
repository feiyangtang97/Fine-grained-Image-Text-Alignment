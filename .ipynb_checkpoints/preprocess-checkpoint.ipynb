{
 "cells": [
  {
   "cell_type": "markdown",
   "metadata": {},
   "source": [
    "#### Chinese artworks dataset needs to be preprocessed using chinese_artworks_convert.ipynb notebook."
   ]
  },
  {
   "cell_type": "code",
   "execution_count": 1,
   "metadata": {},
   "outputs": [],
   "source": [
    "import torchvision\n",
    "import torch\n",
    "import json\n",
    "import cv2\n",
    "import os.path as osp\n",
    "from PIL import Image\n",
    "from tqdm import tqdm_notebook\n",
    "import numpy as np\n",
    "import nltk\n",
    "from collections import Counter"
   ]
  },
  {
   "cell_type": "code",
   "execution_count": 2,
   "metadata": {},
   "outputs": [],
   "source": [
    "dataset_name = 'artworks'\n",
    "# dataset_name = 'chinese_artworks'"
   ]
  },
  {
   "cell_type": "markdown",
   "metadata": {},
   "source": [
    "Use https://github.com/violetteshev/bottom-up-features to extract image features with faster-rcnn, pretrained models need to be downloaded for use.\n",
    "\n",
    "```\n",
    "python bottom-up-features/extract_features.py --image_dir artworks/test --out_dir artworks/features --cfg bottom-up-features/cfgs/\n",
    "faster_rcnn_resnet101.yml --model bottom-up-features/models/bottomup_pretrained_10_100.pth\n",
    "```"
   ]
  },
  {
   "cell_type": "markdown",
   "metadata": {},
   "source": [
    "The above extraction process supports CUDA ONLY and pytorch 0.4 ONLY.\n",
    "\n",
    "After extracted the features, the training and testing process of SCAN are irrelavant to botton-up attention image feature extraction."
   ]
  },
  {
   "cell_type": "markdown",
   "metadata": {},
   "source": [
    "## Image Feature"
   ]
  },
  {
   "cell_type": "markdown",
   "metadata": {},
   "source": [
    "Combine the features extracted from above steps"
   ]
  },
  {
   "cell_type": "code",
   "execution_count": 3,
   "metadata": {},
   "outputs": [],
   "source": [
    "content = json.load(open(osp.join(dataset_name, 'caption_data.json')))"
   ]
  },
  {
   "cell_type": "code",
   "execution_count": 4,
   "metadata": {},
   "outputs": [],
   "source": [
    "images = {\n",
    "    'train': [],\n",
    "    'test': [],\n",
    "    'val': []\n",
    "}\n",
    "for image in content['images']:\n",
    "    filepath = image['filepath']\n",
    "    if len(image['sentences']) == 0:\n",
    "        continue\n",
    "    images[filepath].append(image)"
   ]
  },
  {
   "cell_type": "code",
   "execution_count": 5,
   "metadata": {},
   "outputs": [
    {
     "data": {
      "application/vnd.jupyter.widget-view+json": {
       "model_id": "c8cc5cf91e8d476e9084667033fea78f",
       "version_major": 2,
       "version_minor": 0
      },
      "text/plain": [
       "HBox(children=(IntProgress(value=0, max=14351), HTML(value='')))"
      ]
     },
     "metadata": {},
     "output_type": "display_data"
    },
    {
     "name": "stdout",
     "output_type": "stream",
     "text": [
      "\n"
     ]
    },
    {
     "data": {
      "application/vnd.jupyter.widget-view+json": {
       "model_id": "b89799eab6fe4ff284631d83fb81dea1",
       "version_major": 2,
       "version_minor": 0
      },
      "text/plain": [
       "HBox(children=(IntProgress(value=0, max=1793), HTML(value='')))"
      ]
     },
     "metadata": {},
     "output_type": "display_data"
    },
    {
     "name": "stdout",
     "output_type": "stream",
     "text": [
      "\n"
     ]
    },
    {
     "data": {
      "application/vnd.jupyter.widget-view+json": {
       "model_id": "aca6ca95fb30445590031b3c8fd1a067",
       "version_major": 2,
       "version_minor": 0
      },
      "text/plain": [
       "HBox(children=(IntProgress(value=0, max=1795), HTML(value='')))"
      ]
     },
     "metadata": {},
     "output_type": "display_data"
    },
    {
     "name": "stdout",
     "output_type": "stream",
     "text": [
      "\n"
     ]
    }
   ],
   "source": [
    "for phase in images.keys():\n",
    "    features = []\n",
    "    for image in tqdm_notebook(images[phase]):\n",
    "        file_path = osp.join(dataset_name, 'features', image['filename'].split('.')[0] + '.npy')\n",
    "        feature = np.load(file_path)\n",
    "        features.append(feature[:10, :])\n",
    "#     features = np.concatenate(features)\n",
    "    features = np.stack(features)\n",
    "    np.save(osp.join(dataset_name, phase), features)"
   ]
  },
  {
   "cell_type": "markdown",
   "metadata": {},
   "source": [
    "## Vocab"
   ]
  },
  {
   "cell_type": "code",
   "execution_count": 6,
   "metadata": {},
   "outputs": [],
   "source": [
    "from vocab import Vocabulary, serialize_vocab"
   ]
  },
  {
   "cell_type": "code",
   "execution_count": 7,
   "metadata": {},
   "outputs": [],
   "source": [
    "threshold = 4\n",
    "counter = Counter()\n",
    "for phase in images.keys():\n",
    "    captions = [x['sentences'][0]['raw'] for x in images[phase]]\n",
    "    for caption in captions:\n",
    "        tokens = nltk.tokenize.word_tokenize(\n",
    "            caption.lower())\n",
    "        counter.update(tokens)\n",
    "# Discard if the occurrence of the word is less than min_word_cnt.\n",
    "words = [word for word, cnt in counter.items() if cnt >= threshold]\n",
    "\n",
    "# Create a vocab wrapper and add some special tokens.\n",
    "vocab = Vocabulary()\n",
    "vocab.add_word('<pad>')\n",
    "vocab.add_word('<start>')\n",
    "vocab.add_word('<end>')\n",
    "vocab.add_word('<unk>')\n",
    "\n",
    "# Add words to the vocabulary.\n",
    "for i, word in enumerate(words):\n",
    "    vocab.add_word(word)\n",
    "serialize_vocab(vocab, osp.join(dataset_name, 'vocab.json'))"
   ]
  },
  {
   "cell_type": "code",
   "execution_count": 8,
   "metadata": {},
   "outputs": [],
   "source": [
    "with open(osp.join(dataset_name, 'data.json'), 'w') as f:\n",
    "    json.dump(images, f)"
   ]
  },
  {
   "cell_type": "code",
   "execution_count": null,
   "metadata": {},
   "outputs": [],
   "source": []
  }
 ],
 "metadata": {
  "kernelspec": {
   "display_name": "Python 3",
   "language": "python",
   "name": "python3"
  },
  "language_info": {
   "codemirror_mode": {
    "name": "ipython",
    "version": 3
   },
   "file_extension": ".py",
   "mimetype": "text/x-python",
   "name": "python",
   "nbconvert_exporter": "python",
   "pygments_lexer": "ipython3",
   "version": "3.7.5"
  },
  "widgets": {
   "application/vnd.jupyter.widget-state+json": {
    "state": {
     "0816acc6e7df4cce848f56cfd9d639d3": {
      "model_module": "@jupyter-widgets/base",
      "model_module_version": "1.2.0",
      "model_name": "LayoutModel",
      "state": {}
     },
     "14e32ce83aca46f78bac44651bec6bf4": {
      "model_module": "@jupyter-widgets/base",
      "model_module_version": "1.2.0",
      "model_name": "LayoutModel",
      "state": {}
     },
     "3f342a4a3a4b40fa8fe87de12f71919a": {
      "model_module": "@jupyter-widgets/base",
      "model_module_version": "1.2.0",
      "model_name": "LayoutModel",
      "state": {}
     },
     "475f1d83d53a48cc911a39e97a1c6abe": {
      "model_module": "@jupyter-widgets/base",
      "model_module_version": "1.2.0",
      "model_name": "LayoutModel",
      "state": {}
     },
     "532930352b64498cadbb850f0c2cd904": {
      "model_module": "@jupyter-widgets/controls",
      "model_module_version": "1.5.0",
      "model_name": "HTMLModel",
      "state": {
       "layout": "IPY_MODEL_a46bfe974f584f1789370762532235e7",
       "style": "IPY_MODEL_5fe3c1f720d84892a59ba68c10c4af1f",
       "value": "100% 1793/1793 [00:37&lt;00:00, 48.00it/s]"
      }
     },
     "5837d4d8605347d795b1e2cd68d5e519": {
      "model_module": "@jupyter-widgets/base",
      "model_module_version": "1.2.0",
      "model_name": "LayoutModel",
      "state": {}
     },
     "5c668ae4280d479aac5b11e2c8389862": {
      "model_module": "@jupyter-widgets/base",
      "model_module_version": "1.2.0",
      "model_name": "LayoutModel",
      "state": {}
     },
     "5fe3c1f720d84892a59ba68c10c4af1f": {
      "model_module": "@jupyter-widgets/controls",
      "model_module_version": "1.5.0",
      "model_name": "DescriptionStyleModel",
      "state": {
       "description_width": ""
      }
     },
     "6b66479f5d734ac09603940dd8466666": {
      "model_module": "@jupyter-widgets/controls",
      "model_module_version": "1.5.0",
      "model_name": "IntProgressModel",
      "state": {
       "bar_style": "success",
       "layout": "IPY_MODEL_3f342a4a3a4b40fa8fe87de12f71919a",
       "max": 1795,
       "style": "IPY_MODEL_96a6204b5cd042d79a55f3891bc0696f",
       "value": 1795
      }
     },
     "6d47cea9ca3d4f7794f95bf01a380a93": {
      "model_module": "@jupyter-widgets/controls",
      "model_module_version": "1.5.0",
      "model_name": "DescriptionStyleModel",
      "state": {
       "description_width": ""
      }
     },
     "70c03ac06a1148ddaa46c43dc8e6ee14": {
      "model_module": "@jupyter-widgets/controls",
      "model_module_version": "1.5.0",
      "model_name": "ProgressStyleModel",
      "state": {
       "description_width": ""
      }
     },
     "74a0bd11587146db930ac5b5a38b7c5d": {
      "model_module": "@jupyter-widgets/controls",
      "model_module_version": "1.5.0",
      "model_name": "DescriptionStyleModel",
      "state": {
       "description_width": ""
      }
     },
     "8886730433e34df9bd5d4836fe891d9b": {
      "model_module": "@jupyter-widgets/controls",
      "model_module_version": "1.5.0",
      "model_name": "ProgressStyleModel",
      "state": {
       "description_width": ""
      }
     },
     "8d04c81796db444d8e14de70fcfdd3cd": {
      "model_module": "@jupyter-widgets/base",
      "model_module_version": "1.2.0",
      "model_name": "LayoutModel",
      "state": {}
     },
     "96a6204b5cd042d79a55f3891bc0696f": {
      "model_module": "@jupyter-widgets/controls",
      "model_module_version": "1.5.0",
      "model_name": "ProgressStyleModel",
      "state": {
       "description_width": ""
      }
     },
     "a158f7102673404ab0de52410ea83de1": {
      "model_module": "@jupyter-widgets/controls",
      "model_module_version": "1.5.0",
      "model_name": "HTMLModel",
      "state": {
       "layout": "IPY_MODEL_5c668ae4280d479aac5b11e2c8389862",
       "style": "IPY_MODEL_74a0bd11587146db930ac5b5a38b7c5d",
       "value": "100% 1795/1795 [00:33&lt;00:00, 54.32it/s]"
      }
     },
     "a46bfe974f584f1789370762532235e7": {
      "model_module": "@jupyter-widgets/base",
      "model_module_version": "1.2.0",
      "model_name": "LayoutModel",
      "state": {}
     },
     "aca6ca95fb30445590031b3c8fd1a067": {
      "model_module": "@jupyter-widgets/controls",
      "model_module_version": "1.5.0",
      "model_name": "HBoxModel",
      "state": {
       "children": [
        "IPY_MODEL_6b66479f5d734ac09603940dd8466666",
        "IPY_MODEL_a158f7102673404ab0de52410ea83de1"
       ],
       "layout": "IPY_MODEL_5837d4d8605347d795b1e2cd68d5e519"
      }
     },
     "b82ec7133e5c4924bdeffb61157b0794": {
      "model_module": "@jupyter-widgets/controls",
      "model_module_version": "1.5.0",
      "model_name": "IntProgressModel",
      "state": {
       "bar_style": "success",
       "layout": "IPY_MODEL_475f1d83d53a48cc911a39e97a1c6abe",
       "max": 1793,
       "style": "IPY_MODEL_8886730433e34df9bd5d4836fe891d9b",
       "value": 1793
      }
     },
     "b89799eab6fe4ff284631d83fb81dea1": {
      "model_module": "@jupyter-widgets/controls",
      "model_module_version": "1.5.0",
      "model_name": "HBoxModel",
      "state": {
       "children": [
        "IPY_MODEL_b82ec7133e5c4924bdeffb61157b0794",
        "IPY_MODEL_532930352b64498cadbb850f0c2cd904"
       ],
       "layout": "IPY_MODEL_0816acc6e7df4cce848f56cfd9d639d3"
      }
     },
     "bb7b6d05cd1e41b3b482f226b546960c": {
      "model_module": "@jupyter-widgets/controls",
      "model_module_version": "1.5.0",
      "model_name": "HTMLModel",
      "state": {
       "layout": "IPY_MODEL_bc2e653edb3c459ab15089fea8cfc523",
       "style": "IPY_MODEL_6d47cea9ca3d4f7794f95bf01a380a93",
       "value": "100% 14351/14351 [00:31&lt;00:00, 461.25it/s]"
      }
     },
     "bc2e653edb3c459ab15089fea8cfc523": {
      "model_module": "@jupyter-widgets/base",
      "model_module_version": "1.2.0",
      "model_name": "LayoutModel",
      "state": {}
     },
     "c8cc5cf91e8d476e9084667033fea78f": {
      "model_module": "@jupyter-widgets/controls",
      "model_module_version": "1.5.0",
      "model_name": "HBoxModel",
      "state": {
       "children": [
        "IPY_MODEL_faf76ab51259444c86c5e849b484ed4a",
        "IPY_MODEL_bb7b6d05cd1e41b3b482f226b546960c"
       ],
       "layout": "IPY_MODEL_14e32ce83aca46f78bac44651bec6bf4"
      }
     },
     "faf76ab51259444c86c5e849b484ed4a": {
      "model_module": "@jupyter-widgets/controls",
      "model_module_version": "1.5.0",
      "model_name": "IntProgressModel",
      "state": {
       "bar_style": "success",
       "layout": "IPY_MODEL_8d04c81796db444d8e14de70fcfdd3cd",
       "max": 14351,
       "style": "IPY_MODEL_70c03ac06a1148ddaa46c43dc8e6ee14",
       "value": 14351
      }
     }
    },
    "version_major": 2,
    "version_minor": 0
   }
  }
 },
 "nbformat": 4,
 "nbformat_minor": 4
}
