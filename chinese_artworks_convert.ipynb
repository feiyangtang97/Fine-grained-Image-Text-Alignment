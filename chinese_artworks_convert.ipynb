{
 "cells": [
  {
   "cell_type": "code",
   "execution_count": 1,
   "metadata": {},
   "outputs": [],
   "source": [
    "import json\n",
    "import os"
   ]
  },
  {
   "cell_type": "code",
   "execution_count": 4,
   "metadata": {},
   "outputs": [],
   "source": [
    "output = {}\n",
    "for phase in ['train', 'test', 'val']:\n",
    "    s = json.load(open('chinese_artworks/chineseart_caption_{}_sentences.json'.format(phase)))\n",
    "    for image in s['images']:\n",
    "        data = {}\n",
    "        data['filepath'] = phase\n",
    "        data['filename'] = image['file_name']\n",
    "        data['split'] = phase\n",
    "        image_id = image['id']\n",
    "        output[image_id] = data\n",
    "    for anno in s['annotations']:\n",
    "        image_id = anno['image_id']\n",
    "        if image_id not in output.keys():\n",
    "            continue\n",
    "        if 'sentences' not in output[image_id]:\n",
    "            output[image_id]['sentences'] = []\n",
    "        output[image_id]['sentences'].append({'raw': anno['caption']})\n",
    "final_output = {'images': []}\n",
    "for image_id in output.keys():\n",
    "    tmp = output[image_id]\n",
    "    tmp['imgid'] = image_id\n",
    "    final_output['images'].append(tmp)"
   ]
  },
  {
   "cell_type": "code",
   "execution_count": 5,
   "metadata": {},
   "outputs": [],
   "source": [
    "with open('chinese_artworks/caption_data.json', 'w') as f:\n",
    "    f.write(json.dumps(final_output))"
   ]
  },
  {
   "cell_type": "code",
   "execution_count": null,
   "metadata": {},
   "outputs": [],
   "source": []
  }
 ],
 "metadata": {
  "kernelspec": {
   "display_name": "Python 3",
   "language": "python",
   "name": "python3"
  },
  "language_info": {
   "codemirror_mode": {
    "name": "ipython",
    "version": 3
   },
   "file_extension": ".py",
   "mimetype": "text/x-python",
   "name": "python",
   "nbconvert_exporter": "python",
   "pygments_lexer": "ipython3",
   "version": "3.7.5"
  },
  "widgets": {
   "application/vnd.jupyter.widget-state+json": {
    "state": {},
    "version_major": 2,
    "version_minor": 0
   }
  }
 },
 "nbformat": 4,
 "nbformat_minor": 4
}
