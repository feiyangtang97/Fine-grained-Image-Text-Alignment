{
 "cells": [
  {
   "cell_type": "code",
   "execution_count": 2,
   "metadata": {},
   "outputs": [
    {
     "name": "stdout",
     "output_type": "stream",
     "text": [
      "Namespace(agg_func='LogSumExp', batch_size=128, bi_gru=True, cross_attn='t2i', data_name='artworks', embed_size=1024, grad_clip=2.0, img_dim=2048, lambda_lse=6.0, lambda_softmax=9.0, learning_rate=0.0002, log_step=10, logger_name='runs/artworks_scan/log', lr_update=15, margin=0.2, max_violation=True, model_name='runs/artworks_scan/log', no_imgnorm=False, no_txtnorm=False, num_epochs=30, num_layers=1, precomp_enc_type='basic', raw_feature_norm='clipped_l2norm', resume='', val_step=500, vocab_size=1495, word_dim=300, workers=10)\n",
      "Loading dataset\n",
      "Computing results...\n"
     ]
    },
    {
     "name": "stderr",
     "output_type": "stream",
     "text": [
      "/home/zzhuang/SCAN/model.py:437: UserWarning: volatile was removed and now has no effect. Use `with torch.no_grad():` instead.\n",
      "  images = Variable(images, volatile=volatile)\n",
      "/home/zzhuang/SCAN/model.py:438: UserWarning: volatile was removed and now has no effect. Use `with torch.no_grad():` instead.\n",
      "  captions = Variable(captions, volatile=volatile)\n",
      "/home/zzhuang/SCAN/model.py:220: UserWarning: Implicit dimension choice for softmax has been deprecated. Change the call to include dim=X as an argument.\n",
      "  attn = nn.Softmax()(attn*smooth)\n"
     ]
    },
    {
     "name": "stdout",
     "output_type": "stream",
     "text": [
      "Test: [0/15]\tLe 47.3281 (47.3281)\tTime 0.419 (0.000)\t\n",
      "Test: [10/15]\tLe 49.8495 (48.4232)\tTime 0.125 (0.000)\t\n",
      "Images: 1793, Captions: 1793\n",
      ">> shard_xattn_t2i batch (0,0)"
     ]
    },
    {
     "name": "stderr",
     "output_type": "stream",
     "text": [
      "/home/zzhuang/SCAN/evaluation.py:268: UserWarning: volatile was removed and now has no effect. Use `with torch.no_grad():` instead.\n",
      "  im = Variable(torch.from_numpy(images[im_start:im_end]), volatile=True).cuda()\n",
      "/home/zzhuang/SCAN/evaluation.py:269: UserWarning: volatile was removed and now has no effect. Use `with torch.no_grad():` instead.\n",
      "  s = Variable(torch.from_numpy(captions[cap_start:cap_end]), volatile=True).cuda()\n"
     ]
    },
    {
     "name": "stdout",
     "output_type": "stream",
     "text": [
      ">> shard_xattn_t2i batch (14,14)\n",
      "calculate similarity time: 168.1187925338745\n",
      "rsum: 205.6\n",
      "Average i2t Recall: 34.6\n",
      "Image to text: 15.3 38.5 49.9 11.0 75.4\n",
      "Average t2i Recall: 33.9\n",
      "Text to image: 14.1 37.6 50.2 10.0 79.6\n"
     ]
    }
   ],
   "source": [
    "from vocab import Vocabulary\n",
    "import evaluation\n",
    "evaluation.evalrank(\"runs/artworks_scan/log/model_best.pth.tar\", data_name=\"artworks\", split=\"test\")"
   ]
  },
  {
   "cell_type": "code",
   "execution_count": 3,
   "metadata": {},
   "outputs": [
    {
     "name": "stdout",
     "output_type": "stream",
     "text": [
      "Namespace(agg_func='LogSumExp', batch_size=128, bi_gru=True, cross_attn='t2i', data_name='chinese_artworks', embed_size=1024, grad_clip=2.0, img_dim=2048, lambda_lse=6.0, lambda_softmax=9.0, learning_rate=0.0002, log_step=10, logger_name='runs/chinese_artworks_scan/log', lr_update=15, margin=0.2, max_violation=True, model_name='runs/chinese_artworks_scan/log', no_imgnorm=False, no_txtnorm=False, num_epochs=30, num_layers=1, precomp_enc_type='basic', raw_feature_norm='clipped_l2norm', resume='', val_step=500, vocab_size=954, word_dim=300, workers=10)\n",
      "Loading dataset\n",
      "Computing results...\n"
     ]
    },
    {
     "name": "stderr",
     "output_type": "stream",
     "text": [
      "/home/zzhuang/SCAN/model.py:437: UserWarning: volatile was removed and now has no effect. Use `with torch.no_grad():` instead.\n",
      "  images = Variable(images, volatile=volatile)\n",
      "/home/zzhuang/SCAN/model.py:438: UserWarning: volatile was removed and now has no effect. Use `with torch.no_grad():` instead.\n",
      "  captions = Variable(captions, volatile=volatile)\n",
      "/home/zzhuang/SCAN/model.py:220: UserWarning: Implicit dimension choice for softmax has been deprecated. Change the call to include dim=X as an argument.\n",
      "  attn = nn.Softmax()(attn*smooth)\n"
     ]
    },
    {
     "name": "stdout",
     "output_type": "stream",
     "text": [
      "Test: [0/6]\tLe 51.2686 (51.2685)\tTime 0.285 (0.000)\t\n",
      "Images: 761, Captions: 761\n",
      ">> shard_xattn_t2i batch (0,0)"
     ]
    },
    {
     "name": "stderr",
     "output_type": "stream",
     "text": [
      "/home/zzhuang/SCAN/evaluation.py:268: UserWarning: volatile was removed and now has no effect. Use `with torch.no_grad():` instead.\n",
      "  im = Variable(torch.from_numpy(images[im_start:im_end]), volatile=True).cuda()\n",
      "/home/zzhuang/SCAN/evaluation.py:269: UserWarning: volatile was removed and now has no effect. Use `with torch.no_grad():` instead.\n",
      "  s = Variable(torch.from_numpy(captions[cap_start:cap_end]), volatile=True).cuda()\n"
     ]
    },
    {
     "name": "stdout",
     "output_type": "stream",
     "text": [
      ">> shard_xattn_t2i batch (5,5)\n",
      "calculate similarity time: 32.54207396507263\n",
      "rsum: 124.4\n",
      "Average i2t Recall: 19.9\n",
      "Image to text: 3.3 20.4 36.1 19.0 52.6\n",
      "Average t2i Recall: 21.6\n",
      "Text to image: 8.0 22.9 33.8 27.0 79.1\n"
     ]
    }
   ],
   "source": [
    "evaluation.evalrank(\"runs/chinese_artworks_scan/log/model_best.pth.tar\", data_name=\"chinese_artworks\", split=\"test\")"
   ]
  },
  {
   "cell_type": "code",
   "execution_count": null,
   "metadata": {},
   "outputs": [],
   "source": []
  }
 ],
 "metadata": {
  "kernelspec": {
   "display_name": "Python 3",
   "language": "python",
   "name": "python3"
  },
  "language_info": {
   "codemirror_mode": {
    "name": "ipython",
    "version": 3
   },
   "file_extension": ".py",
   "mimetype": "text/x-python",
   "name": "python",
   "nbconvert_exporter": "python",
   "pygments_lexer": "ipython3",
   "version": "3.7.3"
  },
  "widgets": {
   "application/vnd.jupyter.widget-state+json": {
    "state": {},
    "version_major": 2,
    "version_minor": 0
   }
  }
 },
 "nbformat": 4,
 "nbformat_minor": 4
}
